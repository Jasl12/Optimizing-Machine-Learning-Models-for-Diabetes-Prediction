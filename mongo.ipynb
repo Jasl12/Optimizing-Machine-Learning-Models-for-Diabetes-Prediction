{
 "cells": [
  {
   "cell_type": "code",
   "execution_count": 1,
   "id": "4f445793-cffd-473c-9497-88e7e785e661",
   "metadata": {},
   "outputs": [],
   "source": [
    "import pymongo"
   ]
  },
  {
   "cell_type": "code",
   "execution_count": 2,
   "id": "d8559fb1-f75e-42d8-9526-4ee72fee5f92",
   "metadata": {},
   "outputs": [],
   "source": [
    "client = pymongo.MongoClient(\"mongodb://localhost:27017/\")"
   ]
  },
  {
   "cell_type": "code",
   "execution_count": 3,
   "id": "b3b76b4e-5f3c-431f-93ca-4a527c6198fe",
   "metadata": {},
   "outputs": [],
   "source": [
    "db = client[\"mydatabase\"]\n"
   ]
  },
  {
   "cell_type": "code",
   "execution_count": 4,
   "id": "24fbd252-1f8d-47f1-9142-6e4c3aca208d",
   "metadata": {},
   "outputs": [],
   "source": [
    "mycollection = db[\"customers\"]"
   ]
  },
  {
   "cell_type": "code",
   "execution_count": 5,
   "id": "e4782988-b05e-49e9-a1c3-c4f22ace8a1e",
   "metadata": {},
   "outputs": [],
   "source": [
    "mydict = {\"name\": \"John\", \"address\": \"Highway 37\"}"
   ]
  },
  {
   "cell_type": "code",
   "execution_count": 6,
   "id": "98b11081-1367-4019-a9fb-bdda05124ed7",
   "metadata": {},
   "outputs": [],
   "source": [
    "x = mycollection.insert_one(mydict)"
   ]
  },
  {
   "cell_type": "code",
   "execution_count": 7,
   "id": "03dd7932-7cf0-4d52-a550-22ad9ff2c9ed",
   "metadata": {},
   "outputs": [
    {
     "name": "stdout",
     "output_type": "stream",
     "text": [
      "662c94a1953e47558b09df7c\n"
     ]
    }
   ],
   "source": [
    "print(x.inserted_id)\n"
   ]
  },
  {
   "cell_type": "code",
   "execution_count": 8,
   "id": "491773b2-55be-42b0-81ee-332fd065dded",
   "metadata": {},
   "outputs": [],
   "source": [
    "client.close()"
   ]
  },
  {
   "cell_type": "code",
   "execution_count": null,
   "id": "b7f658d6-a17d-4b44-afae-529188aceda7",
   "metadata": {},
   "outputs": [],
   "source": []
  }
 ],
 "metadata": {
  "kernelspec": {
   "display_name": "Python 3 (ipykernel)",
   "language": "python",
   "name": "python3"
  },
  "language_info": {
   "codemirror_mode": {
    "name": "ipython",
    "version": 3
   },
   "file_extension": ".py",
   "mimetype": "text/x-python",
   "name": "python",
   "nbconvert_exporter": "python",
   "pygments_lexer": "ipython3",
   "version": "3.12.2"
  }
 },
 "nbformat": 4,
 "nbformat_minor": 5
}
